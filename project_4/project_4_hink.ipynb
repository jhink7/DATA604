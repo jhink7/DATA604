{
 "cells": [
  {
   "cell_type": "markdown",
   "metadata": {},
   "source": [
    "# DATA620 Project 4\n",
    "## Justin Hink\n",
    "\n",
    "### Introduction\n",
    "In this project we construct a sentiment analysis model using nltk to analyze a number of movie reviews in the movie_reviews corpus (which comes with ntlk)"
   ]
  },
  {
   "cell_type": "markdown",
   "metadata": {},
   "source": [
    "#### Step 1: Load and Transform the Data\n",
    "\n",
    "We will load the data and split it appropriately into training and test data sets.  This is similar to what we did in group project 3."
   ]
  },
  {
   "cell_type": "code",
   "execution_count": 2,
   "metadata": {
    "collapsed": true
   },
   "outputs": [],
   "source": [
    "import nltk\n",
    "from nltk.corpus import movie_reviews\n",
    "\n",
    "words = movie_reviews.words()\n",
    "all_words = nltk.FreqDist(w.lower() for w in words)\n",
    "word_features = all_words.keys()[:10000]\n",
    "\n",
    "tokens = [(list(movie_reviews.words(fileid)), category)\n",
    "          for category in movie_reviews.categories()\n",
    "          for fileid in movie_reviews.fileids(category)]\n",
    "\n",
    "def convert_to_features(document, wfs):\n",
    "    document_words = set(document)\n",
    "    features = {}\n",
    "    for w in wfs:\n",
    "        features['contains({})'.format(w)] = (w in document_words)\n",
    "    return features\n",
    "\n",
    "feature_sets = [(convert_to_features(d, word_features), c) for (d, c) in tokens]\n",
    "\n",
    "N = int(len(feature_sets) * 0.1)\n",
    "train_data, test_data = feature_sets[N:], feature_sets[:N]"
   ]
  },
  {
   "cell_type": "markdown",
   "metadata": {},
   "source": [
    "#### Step 2: Generate our model based off our training data."
   ]
  },
  {
   "cell_type": "code",
   "execution_count": 3,
   "metadata": {
    "collapsed": false
   },
   "outputs": [],
   "source": [
    "model = nltk.NaiveBayesClassifier.train(train_data)"
   ]
  },
  {
   "cell_type": "markdown",
   "metadata": {},
   "source": [
    "#### Step 3:  Evaluate our model out of sample against our test dataset.  \n",
    "\n",
    "As shown below, our model is accurately classifying the movie reviews at a rate of 77%"
   ]
  },
  {
   "cell_type": "code",
   "execution_count": 4,
   "metadata": {
    "collapsed": false
   },
   "outputs": [
    {
     "name": "stdout",
     "output_type": "stream",
     "text": [
      "Accuracy: 0.77\n"
     ]
    }
   ],
   "source": [
    "print 'Accuracy: %4.2f' % nltk.classify.accuracy(model, test_data)"
   ]
  },
  {
   "cell_type": "markdown",
   "metadata": {},
   "source": [
    "#### Step 4:  Display 30 most informative features"
   ]
  },
  {
   "cell_type": "code",
   "execution_count": 5,
   "metadata": {
    "collapsed": false
   },
   "outputs": [
    {
     "name": "stdout",
     "output_type": "stream",
     "text": [
      "Most Informative Features\n",
      "     contains(insulting) = True              neg : pos    =     11.2 : 1.0\n",
      "          contains(sans) = True              neg : pos    =     10.4 : 1.0\n",
      "         contains(sucks) = True              neg : pos    =     10.2 : 1.0\n",
      "       contains(wasting) = True              neg : pos    =      7.9 : 1.0\n",
      "       contains(admired) = True              pos : neg    =      7.7 : 1.0\n",
      "          contains(deft) = True              pos : neg    =      7.2 : 1.0\n",
      "    contains(mediocrity) = True              neg : pos    =      7.1 : 1.0\n",
      "        contains(suvari) = True              neg : pos    =      7.1 : 1.0\n",
      "         contains(wires) = True              neg : pos    =      7.1 : 1.0\n",
      "        contains(turkey) = True              neg : pos    =      7.1 : 1.0\n",
      "      contains(marginal) = True              neg : pos    =      7.1 : 1.0\n",
      "  contains(refreshingly) = True              pos : neg    =      6.7 : 1.0\n",
      "          contains(scum) = True              pos : neg    =      6.7 : 1.0\n",
      "   contains(wonderfully) = True              pos : neg    =      6.3 : 1.0\n",
      "   contains(bruckheimer) = True              neg : pos    =      6.2 : 1.0\n",
      "        contains(noises) = True              neg : pos    =      6.2 : 1.0\n",
      "       contains(kidnaps) = True              neg : pos    =      6.2 : 1.0\n",
      "    contains(ineptitude) = True              neg : pos    =      6.2 : 1.0\n",
      "       contains(amateur) = True              neg : pos    =      6.2 : 1.0\n",
      "       contains(tremors) = True              neg : pos    =      6.2 : 1.0\n",
      "       contains(symbols) = True              pos : neg    =      6.1 : 1.0\n",
      "       contains(passage) = True              pos : neg    =      6.1 : 1.0\n",
      "         contains(nigel) = True              pos : neg    =      6.1 : 1.0\n",
      "          contains(hugo) = True              pos : neg    =      6.1 : 1.0\n",
      "        contains(tucker) = True              pos : neg    =      5.9 : 1.0\n",
      "    contains(unbearable) = True              neg : pos    =      5.7 : 1.0\n",
      "        contains(stinks) = True              neg : pos    =      5.7 : 1.0\n",
      "     contains(vignettes) = True              pos : neg    =      5.6 : 1.0\n",
      "           contains(qui) = True              pos : neg    =      5.6 : 1.0\n",
      "        contains(policy) = True              pos : neg    =      5.6 : 1.0\n"
     ]
    }
   ],
   "source": [
    "model.show_most_informative_features(30)"
   ]
  },
  {
   "cell_type": "markdown",
   "metadata": {},
   "source": [
    "## Comments on Results\n",
    "\n",
    "The majority of the negative/positive classifications pass the sniff test.  I would break them down as follows:\n",
    "\n",
    "### Intuitive Results\n",
    "\n",
    "##### Negative Classification\n",
    "\n",
    "Sucks\n",
    "Insulting\n",
    "Sans\n",
    "mediocrity\n",
    "stinks\n",
    "wasting\n",
    "jokey\n",
    "ineptitude\n",
    "unbearable\n",
    "turkey\n",
    "marginal\n",
    "amateur\n",
    "\n",
    "##### Positive Classification\n",
    "\n",
    "beings\n",
    "Wonderfully\n",
    "Uplifting\n",
    "innocence\n",
    "admired\n",
    "deft\n",
    "qui\n",
    "refreshingly\n",
    "\n",
    "### Non-Intuitive Results\n",
    "\n",
    "##### Negative Classification\n",
    "\n",
    "peel\n",
    "suvari\n",
    "wires\n",
    "goldsman\n",
    "tremors\n",
    "bruckheimer\n",
    "noises\n",
    "\n",
    "##### Positive Classification\n",
    "\n",
    "Prior\n",
    "nigel\n",
    "hugo\n",
    "tucker\n",
    "symbols\n",
    "scum"
   ]
  },
  {
   "cell_type": "code",
   "execution_count": null,
   "metadata": {
    "collapsed": true
   },
   "outputs": [],
   "source": []
  }
 ],
 "metadata": {
  "kernelspec": {
   "display_name": "Python 2",
   "language": "python",
   "name": "python2"
  },
  "language_info": {
   "codemirror_mode": {
    "name": "ipython",
    "version": 2
   },
   "file_extension": ".py",
   "mimetype": "text/x-python",
   "name": "python",
   "nbconvert_exporter": "python",
   "pygments_lexer": "ipython2",
   "version": "2.7.8"
  }
 },
 "nbformat": 4,
 "nbformat_minor": 1
}
