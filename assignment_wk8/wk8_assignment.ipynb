{
 "cells": [
  {
   "cell_type": "code",
   "execution_count": 1,
   "metadata": {
    "collapsed": true
   },
   "outputs": [],
   "source": [
    "import nltk\n",
    "from nltk.corpus import gutenberg\n",
    "import string\n",
    "import pandas as pd\n",
    "import matplotlib.pyplot as plt\n",
    "import pylab\n",
    "\n",
    "# helper method to remove puncutation\n",
    "table = string.maketrans(\"\",\"\")\n",
    "def trans_punc(s):\n",
    "    return s.translate(table, string.punctuation)\n",
    "\n",
    "# Load in hamlet corpus\n",
    "hammy_raw = gutenberg.words('shakespeare-hamlet.txt')"
   ]
  },
  {
   "cell_type": "markdown",
   "metadata": {},
   "source": [
    "Now lets calculate the number of total words and the number of unique words in the corpus."
   ]
  },
  {
   "cell_type": "code",
   "execution_count": 2,
   "metadata": {
    "collapsed": false
   },
   "outputs": [
    {
     "name": "stdout",
     "output_type": "stream",
     "text": [
      "Total Number of Words: 30271\n"
     ]
    }
   ],
   "source": [
    "hammy_unique = set()\n",
    "hammy_all_filtered = []\n",
    "for w in hammy_raw:\n",
    "    trans = trans_punc(str(w.lower()))\n",
    "    # filter out empty strings\n",
    "    if trans:\n",
    "        hammy_unique.add(trans)\n",
    "        hammy_all_filtered.append(trans)\n",
    "print('Total Number of Words: %i' % len(hammy_all_filtered))"
   ]
  },
  {
   "cell_type": "code",
   "execution_count": 3,
   "metadata": {
    "collapsed": false
   },
   "outputs": [
    {
     "name": "stdout",
     "output_type": "stream",
     "text": [
      "Number of Unique Words: 4701\n"
     ]
    }
   ],
   "source": [
    "print('Number of Unique Words: %i' % len(hammy_unique))"
   ]
  },
  {
   "cell_type": "markdown",
   "metadata": {},
   "source": [
    "Now construct a word frequency dataframe using NLTK and Pandas."
   ]
  },
  {
   "cell_type": "code",
   "execution_count": 4,
   "metadata": {
    "collapsed": false
   },
   "outputs": [
    {
     "name": "stdout",
     "output_type": "stream",
     "text": [
      "          Word  Frequency\n",
      "885        the        993\n",
      "1684       and        863\n",
      "2395        to        685\n",
      "2197        of        610\n",
      "4393         i        574\n",
      "4463       you        527\n",
      "2648         a        511\n",
      "214         my        502\n",
      "817         it        419\n",
      "824         in        400\n",
      "1654      that        377\n",
      "910        ham        337\n",
      "815         is        328\n",
      "1520       not        300\n",
      "2985       his        285\n",
      "3729      this        276\n",
      "4142      with        254\n",
      "2230      your        253\n",
      "4095       but        249\n",
      "980        for        245\n",
      "196         me        228\n",
      "3311         d        223\n",
      "3389      lord        211\n",
      "2456      what        211\n",
      "2298        as        205\n",
      "4610        he        202\n",
      "1250        be        192\n",
      "1455        so        189\n",
      "3002       him        178\n",
      "4462      haue        178\n",
      "...        ...        ...\n",
      "3046    matter         26\n",
      "1593     thing         25\n",
      "3880       day         25\n",
      "2112     world         25\n",
      "193       hold         25\n",
      "352          l         24\n",
      "707     nature         24\n",
      "3231     neuer         24\n",
      "1903     comes         23\n",
      "997     exeunt         23\n",
      "394         re         23\n",
      "172       call         23\n",
      "2820      done         23\n",
      "3023       set         22\n",
      "556     though         22\n",
      "2538       two         22\n",
      "1074      true         22\n",
      "2790       put         22\n",
      "3104     sweet         22\n",
      "2242       hee         21\n",
      "4683     ghost         21\n",
      "1434       mad         21\n",
      "2380    follow         21\n",
      "3986      euen         21\n",
      "595      earth         21\n",
      "3487     feare         21\n",
      "2006  madnesse         21\n",
      "3336   fathers         20\n",
      "4507  himselfe         20\n",
      "4433       wee         20\n",
      "\n",
      "[200 rows x 2 columns]\n"
     ]
    },
    {
     "name": "stderr",
     "output_type": "stream",
     "text": [
      "/usr/local/lib/python2.7/dist-packages/ipykernel/__main__.py:5: FutureWarning: sort(columns=....) is deprecated, use sort_values(by=.....)\n"
     ]
    }
   ],
   "source": [
    "fd = nltk.FreqDist([w.lower() for w in hammy_all_filtered])\n",
    "\n",
    "# translate results into pandas dataframe\n",
    "hammy_df = pd.DataFrame(fd.items(), columns=['Word', 'Frequency'])\n",
    "hammy_df = hammy_df.sort(['Frequency'], ascending=[0])\n",
    "hammy_df = hammy_df.head(200)\n",
    "\n",
    "print hammy_df"
   ]
  },
  {
   "cell_type": "markdown",
   "metadata": {},
   "source": [
    "Plot the frequencies"
   ]
  },
  {
   "cell_type": "code",
   "execution_count": 6,
   "metadata": {
    "collapsed": false
   },
   "outputs": [
    {
     "data": {
      "text/plain": [
       "<matplotlib.figure.Figure at 0x7f9cc4ca8490>"
      ]
     },
     "metadata": {},
     "output_type": "display_data"
    },
    {
     "data": {
      "image/png": "[encoded data removed]",
      "text/plain": [
       "<matplotlib.figure.Figure at 0x7f9c9a97f8d0>"
      ]
     },
     "metadata": {},
     "output_type": "display_data"
    }
   ],
   "source": [
    "fig, ax = plt.subplots(1, 1)\n",
    "ax.get_xaxis().set_visible(False)   # Hide Ticks\n",
    "hammy_df.plot.bar(table=False, ax=ax)\n",
    "plt.show()\n",
    "plt.clf()"
   ]
  },
  {
   "cell_type": "markdown",
   "metadata": {},
   "source": [
    "Determine how many words account for 50% of the total word count in the corpus:"
   ]
  },
  {
   "cell_type": "code",
   "execution_count": 7,
   "metadata": {
    "collapsed": false
   },
   "outputs": [
    {
     "name": "stdout",
     "output_type": "stream",
     "text": [
      "    Word  Frequency  CummSum GtHalf\n",
      "72  them         67    15181   True\n"
     ]
    }
   ],
   "source": [
    "hammy_df['CummSum'] = hammy_df['Frequency'].cumsum()\n",
    "hammy_df['GtHalf'] = hammy_df['CummSum'] > (len(hammy_all_filtered) / 2.0)\n",
    "hammy_df.index = range(1,len(hammy_df) + 1)\n",
    "\n",
    "#print hammy_df\n",
    "\n",
    "# find how many words sum to be half of the total words\n",
    "half_point = hammy_df['GtHalf'] == True\n",
    "print hammy_df[half_point].head(1)"
   ]
  },
  {
   "cell_type": "markdown",
   "metadata": {},
   "source": [
    "72 Words account for 50% of the total word count"
   ]
  },
  {
   "cell_type": "markdown",
   "metadata": {},
   "source": [
    "Does the corpus follow Zip's law?\n",
    "\n",
    "The previous plot shows that it likely is a power law that defines the distribution.  Lets take a look at another plot:"
   ]
  },
  {
   "cell_type": "code",
   "execution_count": 11,
   "metadata": {
    "collapsed": false
   },
   "outputs": [
    {
     "data": {
      "image/png": "[encoded data removed]",
      "text/plain": [
       "<matplotlib.figure.Figure at 0x7f9c9a8afb90>"
      ]
     },
     "metadata": {},
     "output_type": "display_data"
    }
   ],
   "source": [
    "plt.loglog(hammy_df.index,hammy_df['Frequency'])\n",
    "plt.show()"
   ]
  },
  {
   "cell_type": "markdown",
   "metadata": {},
   "source": [
    "The above line is fairly linear indicating that the data is close to following Zipf's law.  Close enough not to reject the idea outright. "
   ]
  },
  {
   "cell_type": "markdown",
   "metadata": {},
   "source": [
    "The words in this corpus differ in two significant ways from \"all words in all corpuses\".  Firstly, the corpus is from hundreds of years ago.  The language was significantly different at that time and certainly the frequency of certain words differ from their usage today.  Considering there is far more text and therefore \"words\" from modern day than back in Shakespeare's time, this skews the usage here away from the average case.\n",
    "\n",
    "Secondly, Shakespeare is a famous historical figure for his command and unique usage of the English language.  How he uses the language and his choice of vocabulary should not be considered average or typical.  "
   ]
  },
  {
   "cell_type": "code",
   "execution_count": null,
   "metadata": {
    "collapsed": true
   },
   "outputs": [],
   "source": []
  }
 ],
 "metadata": {
  "kernelspec": {
   "display_name": "Python 2",
   "language": "python",
   "name": "python2"
  },
  "language_info": {
   "codemirror_mode": {
    "name": "ipython",
    "version": 2
   },
   "file_extension": ".py",
   "mimetype": "text/x-python",
   "name": "python",
   "nbconvert_exporter": "python",
   "pygments_lexer": "ipython2",
   "version": "2.7.8"
  }
 },
 "nbformat": 4,
 "nbformat_minor": 1
}
